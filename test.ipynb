{
 "cells": [
  {
   "cell_type": "code",
   "execution_count": 5,
   "metadata": {},
   "outputs": [
    {
     "name": "stdout",
     "output_type": "stream",
     "text": [
      "<Response [400]>\n"
     ]
    }
   ],
   "source": [
    "test = 'https://fapi.binance.com/fapi/v1/allForceOrders?symbol=ETHBTC&startTime=151315480000&endTime=152315480000&limit=100'\n",
    "import requests\n",
    "a = requests.get(test)\n",
    "print(a)"
   ]
  },
  {
   "cell_type": "code",
   "execution_count": 6,
   "metadata": {},
   "outputs": [
    {
     "ename": "TypeError",
     "evalue": "print() takes at most 4 keyword arguments (6 given)",
     "output_type": "error",
     "traceback": [
      "\u001b[1;31m---------------------------------------------------------------------------\u001b[0m",
      "\u001b[1;31mTypeError\u001b[0m                                 Traceback (most recent call last)",
      "\u001b[1;32mc:\\Users\\Ethan Hunt\\Documents\\mycode\\project\\bitcoin\\test.ipynb 셀 2\u001b[0m in \u001b[0;36m<cell line: 9>\u001b[1;34m()\u001b[0m\n\u001b[0;32m      <a href='vscode-notebook-cell:/c%3A/Users/Ethan%20Hunt/Documents/mycode/project/bitcoin/test.ipynb#ch0000001?line=0'>1</a>\u001b[0m params \u001b[39m=\u001b[39m {\n\u001b[0;32m      <a href='vscode-notebook-cell:/c%3A/Users/Ethan%20Hunt/Documents/mycode/project/bitcoin/test.ipynb#ch0000001?line=1'>2</a>\u001b[0m     \u001b[39m'\u001b[39m\u001b[39msymbol\u001b[39m\u001b[39m'\u001b[39m: \u001b[39m'\u001b[39m\u001b[39mBTCUSDT\u001b[39m\u001b[39m'\u001b[39m,\n\u001b[0;32m      <a href='vscode-notebook-cell:/c%3A/Users/Ethan%20Hunt/Documents/mycode/project/bitcoin/test.ipynb#ch0000001?line=2'>3</a>\u001b[0m     \u001b[39m'\u001b[39m\u001b[39mside\u001b[39m\u001b[39m'\u001b[39m: \u001b[39m'\u001b[39m\u001b[39mSELL\u001b[39m\u001b[39m'\u001b[39m,\n\u001b[1;32m   (...)\u001b[0m\n\u001b[0;32m      <a href='vscode-notebook-cell:/c%3A/Users/Ethan%20Hunt/Documents/mycode/project/bitcoin/test.ipynb#ch0000001?line=6'>7</a>\u001b[0m     \u001b[39m'\u001b[39m\u001b[39mprice\u001b[39m\u001b[39m'\u001b[39m: \u001b[39m59808\u001b[39m\n\u001b[0;32m      <a href='vscode-notebook-cell:/c%3A/Users/Ethan%20Hunt/Documents/mycode/project/bitcoin/test.ipynb#ch0000001?line=7'>8</a>\u001b[0m }\n\u001b[1;32m----> <a href='vscode-notebook-cell:/c%3A/Users/Ethan%20Hunt/Documents/mycode/project/bitcoin/test.ipynb#ch0000001?line=8'>9</a>\u001b[0m \u001b[39mprint\u001b[39;49m(\u001b[39m*\u001b[39;49m\u001b[39m*\u001b[39;49mparams)\n",
      "\u001b[1;31mTypeError\u001b[0m: print() takes at most 4 keyword arguments (6 given)"
     ]
    }
   ],
   "source": [
    "params = {\n",
    "    'symbol': 'BTCUSDT',\n",
    "    'side': 'SELL',\n",
    "    'type': 'LIMIT',\n",
    "    'timeInForce': 'GTC',\n",
    "    'quantity': 0.002,\n",
    "    'price': 59808\n",
    "}\n",
    "print(**params)"
   ]
  }
 ],
 "metadata": {
  "kernelspec": {
   "display_name": "Python 3.8.13 ('bitcoin')",
   "language": "python",
   "name": "python3"
  },
  "language_info": {
   "codemirror_mode": {
    "name": "ipython",
    "version": 3
   },
   "file_extension": ".py",
   "mimetype": "text/x-python",
   "name": "python",
   "nbconvert_exporter": "python",
   "pygments_lexer": "ipython3",
   "version": "3.8.13"
  },
  "orig_nbformat": 4,
  "vscode": {
   "interpreter": {
    "hash": "43c101c0d5935be89647586713458442a480aea78bf1413d9e93a5ef5e3b1650"
   }
  }
 },
 "nbformat": 4,
 "nbformat_minor": 2
}
