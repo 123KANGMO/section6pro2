{
 "cells": [
  {
   "cell_type": "code",
   "execution_count": null,
   "metadata": {},
   "outputs": [],
   "source": []
  },
  {
   "cell_type": "code",
   "execution_count": 369,
   "metadata": {},
   "outputs": [],
   "source": [
    "import pandas as pd\n",
    "df = pd.read_csv('f_3m_ma.csv')"
   ]
  },
  {
   "cell_type": "code",
   "execution_count": 413,
   "metadata": {},
   "outputs": [],
   "source": [
    "# df= df.iloc[-300:]\n"
   ]
  },
  {
   "cell_type": "code",
   "execution_count": 414,
   "metadata": {},
   "outputs": [
    {
     "data": {
      "text/plain": [
       "451774"
      ]
     },
     "execution_count": 414,
     "metadata": {},
     "output_type": "execute_result"
    }
   ],
   "source": [
    "len(df)"
   ]
  },
  {
   "cell_type": "code",
   "execution_count": 415,
   "metadata": {},
   "outputs": [],
   "source": [
    "class Order:\n",
    "    def __init__(self, price, quantity, timestamp):\n",
    "      self.price = price\n",
    "      self.quantity = quantity\n",
    "      self.timestamp = timestamp"
   ]
  },
  {
   "cell_type": "code",
   "execution_count": 416,
   "metadata": {},
   "outputs": [
    {
     "name": "stdout",
     "output_type": "stream",
     "text": [
      "8999000.0 0.05\n",
      "9001000.0 -0.15000000000000002\n",
      "8995000.0 -1.3877787807814457e-17\n"
     ]
    }
   ],
   "source": [
    "class Wallet:\n",
    "  def __init__(johnson, usdt=9000000.0, bit_cnt=0.0, timestamp=0):\n",
    "      johnson.usdt = usdt\n",
    "      johnson.bit_cnt = bit_cnt\n",
    "      johnson.timestamp = timestamp\n",
    "      johnson.history = [] # ('b',price, cnt, close_time\n",
    "\n",
    "  def buyBit(self, size_usdt:float, price:float, close_time:int,  decimal_place=3 ):\n",
    "    cnt =float(round(size_usdt/price, decimal_place))\n",
    "    # if self.bit_cnt < 0: # - 포지션일 땐 그것 붜 해소 하고 구매 하겠지. \n",
    "    #   if self.bit_cnt + cnt <= 0: # 매수 해도 계속 - 인 경우, \n",
    "    #     self.bit_cnt += cnt\n",
    "    #     self.usdt -= cnt*price\n",
    "    #   else :        # 사는 금액이 더 크느 경우\n",
    "    #     self.usdt -= cnt * price # 어차피 사는대 필요한 도는 내  \n",
    "    #     cnt2 = cnt - abs(self.bit_cnt) # 포지션 매각하는 량\n",
    "    #     self.usdt += abs(self.bit_cnt) * price # 달러를 지불하고. 포지션 매각한 부분은 돌려 받는거지 . \n",
    "    #     self.bit_cnt = cnt2# 그만큼 비트를 늘리고,\n",
    "    # else:\n",
    "    self.usdt -= cnt * price # 달러를 지불하고.\n",
    "    self.bit_cnt += cnt # 그만큼 비트를 늘리고,\n",
    "    self.history.append(('b',price, cnt, close_time, self.usdt, self.bit_cnt))\n",
    "\n",
    "  def sellBit(self, size_usdt:float, price:float, close_time:int, decimal_place=3):\n",
    "    cnt =round(size_usdt/price, decimal_place)\n",
    "    # if self.bit_cnt > 0: # - 포지션일 땐 그것 붜 해소 하고 구매 하겠지. \n",
    "    #   if self.bit_cnt - cnt >= 0: # 매도 해도 계속 + 인 경우, \n",
    "    #     self.bit_cnt -= cnt #  비트를 팔지.  파는 만큼 들어와야 되잖어..\n",
    "    #     self.usdt += cnt*price\n",
    "    #   else :        # 파는 금액이 더 크느 경우\n",
    "    #     self.usdt -= cnt*price #어차피 돈은 똑같이 내 . \n",
    "    #     cnt2 = cnt - abs(self.bit_cnt) # 포지션 매각하는 량 \n",
    "    #     self.usdt += abs(self.bit_cnt) * price # 매각하는 만큼 달러 받기. \n",
    "    #     self.bit_cnt = -cnt2# 그만큼 비트를 늘리고,\n",
    "\n",
    "    # else:\n",
    "    self.usdt += cnt * price # 판만큼 돈을 받는거야 . \n",
    "    self.bit_cnt -= cnt # 비트를 빗내서 팔고\n",
    "    self.history.append(('s',price, cnt, close_time,  self.usdt, self.bit_cnt))\n",
    "      \n",
    "'''\n",
    "coin-M : 내가 원래 알던 선물 거래. 포지션의 가치 하락과 비트의 가치 하락 1cont = 100usd\n",
    "usd-m  : 이건 그냥 대출 거래 \n",
    "\n",
    "'''\n",
    "mw = Wallet(usdt=9000000.0, bit_cnt= 0.0,timestamp='fine')\n",
    "mw.buyBit(price=20000, size_usdt=1000, close_time=0)\n",
    "print( mw.usdt, mw.bit_cnt)\n",
    "mw.sellBit(price=10000, size_usdt=1000, close_time=0)\n",
    "mw.sellBit(price=10000, size_usdt=1000, close_time=0)\n",
    "print( mw.usdt, mw.bit_cnt)\n",
    "\n",
    "mw.buyBit(price=40000, size_usdt=2000, close_time=0)\n",
    "mw.buyBit(price=40000, size_usdt=2000, close_time=0)\n",
    "mw.buyBit(price=40000, size_usdt=2000, close_time=0)\n",
    "print( mw.usdt, mw.bit_cnt)\n",
    "\n",
    "# 20k 1000만원 매수 0.05개 -> 9000만원 + 비트 0.05\n",
    "# 사 : 돈내고 비트 올리고 , \n",
    "# 팔아 : 돈 내고 비트 내리고 , \n",
    "# 10k 1000만원 매도 0.1개 -> 1000+ -0.05 비트\n",
    "# 10k 1000만원 매도 0.1개 -> 1100+ -0.15 비트\n",
    "\n",
    "# 40k 2000만원 매수 0.05개 -> 9000 비튼 는 -0.1 개 \n",
    "# 40k 2000만원 매수 0.05개 -> 7000 비튼 는 -0.05 개\n",
    "#                  (미실현손익 -2000) \n",
    "\n"
   ]
  },
  {
   "cell_type": "code",
   "execution_count": 417,
   "metadata": {},
   "outputs": [],
   "source": [
    "KangMoLee_Wallet= Wallet()"
   ]
  },
  {
   "cell_type": "code",
   "execution_count": 434,
   "metadata": {},
   "outputs": [],
   "source": [
    "buyQ = []\n",
    "sellQ = []\n",
    "count = 0\n",
    "#180,000 => 3분\n",
    "def newBuyOrder(price, timestamp, buyQ:list):\n",
    "  if buyQ:\n",
    "    return\n",
    "  # print('buy order added')\n",
    "  buyQ.append(Order(price=round(price*0.991, 1), timestamp=timestamp, quantity=1000))\n",
    "  buyQ.append(Order(price=round(price*0.974, 1), timestamp=timestamp+1, quantity=1000))\n",
    "  buyQ.append(Order(price=round(price*0.963, 1), timestamp=timestamp+2, quantity=1000))\n",
    "  \n",
    "\n",
    "\n",
    "def newSellOrder(price, timestamp, sellQ:list):\n",
    "  # print('sell order added')\n",
    "  if sellQ:\n",
    "    return\n",
    "  sellQ.append(Order(price=round(price*1.009, 1), timestamp=timestamp, quantity=1000))\n",
    "  sellQ.append(Order(price=round(price*1.026, 1), timestamp=timestamp+1, quantity=1000))\n",
    "  sellQ.append(Order(price=round(price*1.037, 1), timestamp=timestamp+2, quantity=1000))\n",
    "  \n",
    "  "
   ]
  },
  {
   "cell_type": "code",
   "execution_count": 435,
   "metadata": {},
   "outputs": [],
   "source": [
    "def add_b_OrdersIfNeeded(ma70:float, ma7:float, current:float, timestamp:int, buyQ:list,sellQ:list):\n",
    "  if ma7/ma70 < 0.991: #and current > ma7:\n",
    "    newBuyOrder(price = current, timestamp=timestamp, buyQ=buyQ)\n",
    "    \n",
    "def add_s_OrdersIfNeeded(ma70:float, ma7:float, current:float, timestamp:int, buyQ:list,sellQ:list):\n",
    "  if ma7/ ma70 > 1.009 :#and current < ma7:\n",
    "    newSellOrder(price = current, timestamp=timestamp, sellQ=sellQ)\n"
   ]
  },
  {
   "cell_type": "code",
   "execution_count": 436,
   "metadata": {},
   "outputs": [
    {
     "name": "stdout",
     "output_type": "stream",
     "text": [
      "8100000\n"
     ]
    },
    {
     "data": {
      "text/plain": [
       "1659581639000"
      ]
     },
     "execution_count": 436,
     "metadata": {},
     "output_type": "execute_result"
    }
   ],
   "source": [
    "print(180000*45)\n",
    "1578026880000\t\n",
    "# 2022년 8월 4일 목요일 오전 11:56:59 GMT+09:00\n",
    "1659581819000-180000\n",
    "\n"
   ]
  },
  {
   "cell_type": "code",
   "execution_count": 437,
   "metadata": {},
   "outputs": [],
   "source": [
    "def checkQ_toBuy(current:float, closeTime:int, buyQ:list,sellQ:list): # 큐는 이미 있는지 확인 됐어. 테스트에선 low값을 받을거야. \n",
    "  if buyQ:\n",
    "    i = 0\n",
    "    while i < len(buyQ):\n",
    "      order = buyQ[i]\n",
    "      if order.timestamp < (closeTime - 8100000):#2시간 15분 이상 지났으면 삭제 .;\n",
    "        buyQ.pop(i)\n",
    "        continue\n",
    "      elif order.price >= current: # 지금은 \n",
    "        KangMoLee_Wallet.buyBit(size_usdt=1000.0 , price=order.price , close_time=closeTime)\n",
    "        #주문을 했으면 남아있는 오더를 지워야 해 . 여기서 지우면 for문의 순서가 꼬여.\n",
    "        buyQ.pop(i)\n",
    "        continue\n",
    "      i+=1\n",
    "\n",
    "def checkQ_toSell(current:float, closeTime:int, buyQ:list,sellQ:list): # 큐는 이미 있는지 확인 됐어. 테스트에선 low값을 받을거야. \n",
    "  if sellQ:\n",
    "    i = 0\n",
    "    while i < len(sellQ):\n",
    "      order = sellQ[i]\n",
    "      if order.timestamp < (closeTime - 8100000):#2시간 15분 이상 지났으면 삭제 .;\n",
    "        sellQ.pop(i)\n",
    "        continue\n",
    "      elif order.price <= current: # 지금은 \n",
    "        KangMoLee_Wallet.sellBit(size_usdt=1000.0 , price=order.price , close_time=closeTime)\n",
    "        #주문을 했으면 남아있는 오더를 지워야 해 . 여기서 지우면 for문의 순서가 꼬여.\n",
    "        sellQ.pop(i)\n",
    "        continue\n",
    "      i+=1"
   ]
  },
  {
   "cell_type": "code",
   "execution_count": 438,
   "metadata": {},
   "outputs": [
    {
     "data": {
      "text/html": [
       "<div>\n",
       "<style scoped>\n",
       "    .dataframe tbody tr th:only-of-type {\n",
       "        vertical-align: middle;\n",
       "    }\n",
       "\n",
       "    .dataframe tbody tr th {\n",
       "        vertical-align: top;\n",
       "    }\n",
       "\n",
       "    .dataframe thead th {\n",
       "        text-align: right;\n",
       "    }\n",
       "</style>\n",
       "<table border=\"1\" class=\"dataframe\">\n",
       "  <thead>\n",
       "    <tr style=\"text-align: right;\">\n",
       "      <th></th>\n",
       "      <th>Unnamed: 0.1</th>\n",
       "      <th>Unnamed: 0</th>\n",
       "      <th>open_time</th>\n",
       "      <th>open</th>\n",
       "      <th>high</th>\n",
       "      <th>low</th>\n",
       "      <th>close</th>\n",
       "      <th>volume</th>\n",
       "      <th>close_time</th>\n",
       "      <th>qav</th>\n",
       "      <th>num_t</th>\n",
       "      <th>tbbav</th>\n",
       "      <th>tbqav</th>\n",
       "      <th>ignore</th>\n",
       "      <th>ma7</th>\n",
       "      <th>ma70</th>\n",
       "    </tr>\n",
       "  </thead>\n",
       "  <tbody>\n",
       "    <tr>\n",
       "      <th>0</th>\n",
       "      <td>69</td>\n",
       "      <td>69</td>\n",
       "      <td>1577849220000</td>\n",
       "      <td>7227.96</td>\n",
       "      <td>7233.61</td>\n",
       "      <td>7227.07</td>\n",
       "      <td>7233.19</td>\n",
       "      <td>97.763</td>\n",
       "      <td>1577849399999</td>\n",
       "      <td>7.068266e+05</td>\n",
       "      <td>152</td>\n",
       "      <td>87.377</td>\n",
       "      <td>631732.26175</td>\n",
       "      <td>0.0</td>\n",
       "      <td>7228.011429</td>\n",
       "      <td>7202.808143</td>\n",
       "    </tr>\n",
       "    <tr>\n",
       "      <th>1</th>\n",
       "      <td>70</td>\n",
       "      <td>70</td>\n",
       "      <td>1577849400000</td>\n",
       "      <td>7233.08</td>\n",
       "      <td>7236.40</td>\n",
       "      <td>7233.05</td>\n",
       "      <td>7236.09</td>\n",
       "      <td>77.141</td>\n",
       "      <td>1577849579999</td>\n",
       "      <td>5.580993e+05</td>\n",
       "      <td>173</td>\n",
       "      <td>42.148</td>\n",
       "      <td>304933.82618</td>\n",
       "      <td>0.0</td>\n",
       "      <td>7230.060000</td>\n",
       "      <td>7203.639000</td>\n",
       "    </tr>\n",
       "    <tr>\n",
       "      <th>2</th>\n",
       "      <td>71</td>\n",
       "      <td>71</td>\n",
       "      <td>1577849580000</td>\n",
       "      <td>7236.11</td>\n",
       "      <td>7238.46</td>\n",
       "      <td>7235.76</td>\n",
       "      <td>7236.59</td>\n",
       "      <td>108.843</td>\n",
       "      <td>1577849759999</td>\n",
       "      <td>7.876872e+05</td>\n",
       "      <td>187</td>\n",
       "      <td>60.343</td>\n",
       "      <td>436708.91054</td>\n",
       "      <td>0.0</td>\n",
       "      <td>7232.065714</td>\n",
       "      <td>7204.510143</td>\n",
       "    </tr>\n",
       "    <tr>\n",
       "      <th>3</th>\n",
       "      <td>72</td>\n",
       "      <td>72</td>\n",
       "      <td>1577849760000</td>\n",
       "      <td>7236.59</td>\n",
       "      <td>7237.59</td>\n",
       "      <td>7221.14</td>\n",
       "      <td>7222.34</td>\n",
       "      <td>212.048</td>\n",
       "      <td>1577849939999</td>\n",
       "      <td>1.533013e+06</td>\n",
       "      <td>421</td>\n",
       "      <td>59.845</td>\n",
       "      <td>432462.82224</td>\n",
       "      <td>0.0</td>\n",
       "      <td>7230.985714</td>\n",
       "      <td>7205.085571</td>\n",
       "    </tr>\n",
       "    <tr>\n",
       "      <th>4</th>\n",
       "      <td>73</td>\n",
       "      <td>73</td>\n",
       "      <td>1577849940000</td>\n",
       "      <td>7222.20</td>\n",
       "      <td>7227.47</td>\n",
       "      <td>7222.20</td>\n",
       "      <td>7226.38</td>\n",
       "      <td>118.535</td>\n",
       "      <td>1577850119999</td>\n",
       "      <td>8.563716e+05</td>\n",
       "      <td>147</td>\n",
       "      <td>96.480</td>\n",
       "      <td>697015.02290</td>\n",
       "      <td>0.0</td>\n",
       "      <td>7230.487143</td>\n",
       "      <td>7205.704286</td>\n",
       "    </tr>\n",
       "  </tbody>\n",
       "</table>\n",
       "</div>"
      ],
      "text/plain": [
       "   Unnamed: 0.1  Unnamed: 0      open_time     open     high      low  \\\n",
       "0            69          69  1577849220000  7227.96  7233.61  7227.07   \n",
       "1            70          70  1577849400000  7233.08  7236.40  7233.05   \n",
       "2            71          71  1577849580000  7236.11  7238.46  7235.76   \n",
       "3            72          72  1577849760000  7236.59  7237.59  7221.14   \n",
       "4            73          73  1577849940000  7222.20  7227.47  7222.20   \n",
       "\n",
       "     close   volume     close_time           qav  num_t   tbbav         tbqav  \\\n",
       "0  7233.19   97.763  1577849399999  7.068266e+05    152  87.377  631732.26175   \n",
       "1  7236.09   77.141  1577849579999  5.580993e+05    173  42.148  304933.82618   \n",
       "2  7236.59  108.843  1577849759999  7.876872e+05    187  60.343  436708.91054   \n",
       "3  7222.34  212.048  1577849939999  1.533013e+06    421  59.845  432462.82224   \n",
       "4  7226.38  118.535  1577850119999  8.563716e+05    147  96.480  697015.02290   \n",
       "\n",
       "   ignore          ma7         ma70  \n",
       "0     0.0  7228.011429  7202.808143  \n",
       "1     0.0  7230.060000  7203.639000  \n",
       "2     0.0  7232.065714  7204.510143  \n",
       "3     0.0  7230.985714  7205.085571  \n",
       "4     0.0  7230.487143  7205.704286  "
      ]
     },
     "execution_count": 438,
     "metadata": {},
     "output_type": "execute_result"
    }
   ],
   "source": [
    "df.head()"
   ]
  },
  {
   "cell_type": "code",
   "execution_count": 439,
   "metadata": {},
   "outputs": [],
   "source": [
    "# main 프로세스\n",
    "for i in range( len(df)):\n",
    "  #구매 할것이 있는지. 확인 \n",
    "  # if df['ma70'].iloc[i] > ma7*1.006\n",
    "  checkQ_toBuy(current=df['low'].iloc[i], closeTime=df['close_time'].iloc[i], buyQ=buyQ,sellQ=sellQ) \n",
    "  checkQ_toSell(current=df['high'].iloc[i], closeTime=df['close_time'].iloc[i], buyQ=buyQ,sellQ=sellQ)    \n",
    "  add_s_OrdersIfNeeded(ma70= df['ma70'].iloc[i], ma7= df['ma7'].iloc[i], current=df['close'].iloc[i], timestamp=df['close_time'].iloc[i], buyQ=buyQ,sellQ=sellQ )\n",
    "  add_b_OrdersIfNeeded(ma70= df['ma70'].iloc[i], ma7= df['ma7'].iloc[i], current=df['close'].iloc[i], timestamp=df['close_time'].iloc[i], buyQ=buyQ,sellQ=sellQ )\n",
    "\n",
    "  \n",
    "# print(KangMoLee_Wallet.history)\n",
    "history = pd.DataFrame(KangMoLee_Wallet.history, columns=['buyOrSell','price', 'cnt', 'close_time', 'total_ustd', 'bitcoin_position'])\n"
   ]
  },
  {
   "cell_type": "code",
   "execution_count": 440,
   "metadata": {},
   "outputs": [
    {
     "name": "stdout",
     "output_type": "stream",
     "text": [
      "  buyOrSell   price    cnt     close_time    total_ustd  bitcoin_position\n",
      "0         b  6929.8  0.144  1577986019999  8.999002e+06             0.144\n",
      "1         s  7087.9  0.141  1578026699999  9.000002e+06             0.003\n",
      "2         s  7207.4  0.139  1578026699999  9.001003e+06            -0.136\n"
     ]
    },
    {
     "data": {
      "text/html": [
       "<div>\n",
       "<style scoped>\n",
       "    .dataframe tbody tr th:only-of-type {\n",
       "        vertical-align: middle;\n",
       "    }\n",
       "\n",
       "    .dataframe tbody tr th {\n",
       "        vertical-align: top;\n",
       "    }\n",
       "\n",
       "    .dataframe thead th {\n",
       "        text-align: right;\n",
       "    }\n",
       "</style>\n",
       "<table border=\"1\" class=\"dataframe\">\n",
       "  <thead>\n",
       "    <tr style=\"text-align: right;\">\n",
       "      <th></th>\n",
       "      <th>buyOrSell</th>\n",
       "      <th>price</th>\n",
       "      <th>cnt</th>\n",
       "      <th>close_time</th>\n",
       "      <th>total_ustd</th>\n",
       "      <th>bitcoin_position</th>\n",
       "    </tr>\n",
       "  </thead>\n",
       "  <tbody>\n",
       "    <tr>\n",
       "      <th>53479</th>\n",
       "      <td>b</td>\n",
       "      <td>23438.8</td>\n",
       "      <td>0.043</td>\n",
       "      <td>1659098699999</td>\n",
       "      <td>2.939274e+06</td>\n",
       "      <td>211.092</td>\n",
       "    </tr>\n",
       "    <tr>\n",
       "      <th>53480</th>\n",
       "      <td>s</td>\n",
       "      <td>24451.9</td>\n",
       "      <td>0.041</td>\n",
       "      <td>1659186539999</td>\n",
       "      <td>2.940276e+06</td>\n",
       "      <td>211.051</td>\n",
       "    </tr>\n",
       "    <tr>\n",
       "      <th>53481</th>\n",
       "      <td>b</td>\n",
       "      <td>23772.8</td>\n",
       "      <td>0.042</td>\n",
       "      <td>1659218579999</td>\n",
       "      <td>2.939278e+06</td>\n",
       "      <td>211.093</td>\n",
       "    </tr>\n",
       "  </tbody>\n",
       "</table>\n",
       "</div>"
      ],
      "text/plain": [
       "      buyOrSell    price    cnt     close_time    total_ustd  bitcoin_position\n",
       "53479         b  23438.8  0.043  1659098699999  2.939274e+06           211.092\n",
       "53480         s  24451.9  0.041  1659186539999  2.940276e+06           211.051\n",
       "53481         b  23772.8  0.042  1659218579999  2.939278e+06           211.093"
      ]
     },
     "execution_count": 440,
     "metadata": {},
     "output_type": "execute_result"
    }
   ],
   "source": [
    "# history[history['buyOrSell']=='s'].tail(10)\n",
    "print( history.head(3))\n",
    "history.tail(3)"
   ]
  },
  {
   "cell_type": "code",
   "execution_count": 447,
   "metadata": {},
   "outputs": [
    {
     "data": {
      "text/plain": [
       "5018271.670399999"
      ]
     },
     "execution_count": 447,
     "metadata": {},
     "output_type": "execute_result"
    }
   ],
   "source": [
    "211.093*23772.8"
   ]
  },
  {
   "cell_type": "code",
   "execution_count": 442,
   "metadata": {},
   "outputs": [
    {
     "data": {
      "text/html": [
       "<div>\n",
       "<style scoped>\n",
       "    .dataframe tbody tr th:only-of-type {\n",
       "        vertical-align: middle;\n",
       "    }\n",
       "\n",
       "    .dataframe tbody tr th {\n",
       "        vertical-align: top;\n",
       "    }\n",
       "\n",
       "    .dataframe thead th {\n",
       "        text-align: right;\n",
       "    }\n",
       "</style>\n",
       "<table border=\"1\" class=\"dataframe\">\n",
       "  <thead>\n",
       "    <tr style=\"text-align: right;\">\n",
       "      <th></th>\n",
       "      <th>Unnamed: 0.1</th>\n",
       "      <th>Unnamed: 0</th>\n",
       "      <th>open_time</th>\n",
       "      <th>open</th>\n",
       "      <th>high</th>\n",
       "      <th>low</th>\n",
       "      <th>close</th>\n",
       "      <th>volume</th>\n",
       "      <th>close_time</th>\n",
       "      <th>qav</th>\n",
       "      <th>num_t</th>\n",
       "      <th>tbbav</th>\n",
       "      <th>tbqav</th>\n",
       "      <th>ignore</th>\n",
       "      <th>ma7</th>\n",
       "      <th>ma70</th>\n",
       "    </tr>\n",
       "  </thead>\n",
       "  <tbody>\n",
       "    <tr>\n",
       "      <th>987</th>\n",
       "      <td>1056</td>\n",
       "      <td>1056</td>\n",
       "      <td>1578026880000</td>\n",
       "      <td>7203.33</td>\n",
       "      <td>7220.44</td>\n",
       "      <td>7164.8</td>\n",
       "      <td>7214.54</td>\n",
       "      <td>951.033729</td>\n",
       "      <td>1578027059999</td>\n",
       "      <td>6.838718e+06</td>\n",
       "      <td>5100</td>\n",
       "      <td>580.575101</td>\n",
       "      <td>4.173255e+06</td>\n",
       "      <td>0.0</td>\n",
       "      <td>7110.348571</td>\n",
       "      <td>6961.911286</td>\n",
       "    </tr>\n",
       "  </tbody>\n",
       "</table>\n",
       "</div>"
      ],
      "text/plain": [
       "     Unnamed: 0.1  Unnamed: 0      open_time     open     high     low  \\\n",
       "987          1056        1056  1578026880000  7203.33  7220.44  7164.8   \n",
       "\n",
       "       close      volume     close_time           qav  num_t       tbbav  \\\n",
       "987  7214.54  951.033729  1578027059999  6.838718e+06   5100  580.575101   \n",
       "\n",
       "            tbqav  ignore          ma7         ma70  \n",
       "987  4.173255e+06     0.0  7110.348571  6961.911286  "
      ]
     },
     "execution_count": 442,
     "metadata": {},
     "output_type": "execute_result"
    }
   ],
   "source": [
    "df[df['close_time']==1578027059999]\n",
    "                     "
   ]
  },
  {
   "cell_type": "code",
   "execution_count": 443,
   "metadata": {},
   "outputs": [
    {
     "name": "stdout",
     "output_type": "stream",
     "text": [
      "1.0145106824275025\n",
      "0.9941153404836677\n",
      "1.0213213410659943\n"
     ]
    }
   ],
   "source": [
    "print(7055.047143/6954.137857)\n",
    "print(7132.318571/7174.538286)\n",
    "print(7110.348571/6961.911286)"
   ]
  },
  {
   "cell_type": "code",
   "execution_count": 444,
   "metadata": {},
   "outputs": [],
   "source": [
    "history.to_csv('test_result.csv')"
   ]
  },
  {
   "cell_type": "code",
   "execution_count": 445,
   "metadata": {},
   "outputs": [],
   "source": [
    "round(1000/23824, 3)\n",
    "\n",
    "def howMuchCoin(price:float, usdt:float, decimal_place=3):\n",
    "  return round(usdt/price, decimal_place) # 수수료 까지는 입력할 수가 없다. 0.02 보다 높으면 괸찮지."
   ]
  },
  {
   "cell_type": "code",
   "execution_count": 446,
   "metadata": {},
   "outputs": [],
   "source": [
    "x= Order(1,2,300)\n",
    "y = Order(3,4,400)\n",
    "z = Order(5,6,500)\n",
    "lix = [z, y, x]\n",
    "while i < len(lix):\n",
    "  print(i)\n",
    "  if lix[i] =='b':\n",
    "    lix.remove()\n",
    "    continue\n",
    "  print(lix[i])\n",
    "  i+=1\n",
    "  \n",
    "  "
   ]
  },
  {
   "cell_type": "code",
   "execution_count": null,
   "metadata": {},
   "outputs": [],
   "source": []
  }
 ],
 "metadata": {
  "kernelspec": {
   "display_name": "Python 3.8.13 ('bitpro')",
   "language": "python",
   "name": "python3"
  },
  "language_info": {
   "codemirror_mode": {
    "name": "ipython",
    "version": 3
   },
   "file_extension": ".py",
   "mimetype": "text/x-python",
   "name": "python",
   "nbconvert_exporter": "python",
   "pygments_lexer": "ipython3",
   "version": "3.8.13"
  },
  "orig_nbformat": 4,
  "vscode": {
   "interpreter": {
    "hash": "ee157a3490c9921db86315b35d84ef91289c7f27dd23668d9cedbe821c5ea5bf"
   }
  }
 },
 "nbformat": 4,
 "nbformat_minor": 2
}
