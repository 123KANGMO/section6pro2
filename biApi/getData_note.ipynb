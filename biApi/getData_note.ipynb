{
 "cells": [
  {
   "cell_type": "code",
   "execution_count": 1,
   "metadata": {},
   "outputs": [
    {
     "name": "stdout",
     "output_type": "stream",
     "text": [
      "<class 'list'>\n"
     ]
    }
   ],
   "source": [
    "\n",
    "from binance.spot import Spot \n",
    "from binance.cm_futures import CMFutures\n",
    "from binance.um_futures import UMFutures\n",
    "import pandas as pd\n",
    "\n",
    "cm_futures_client = CMFutures()\n",
    "um_futures_client = UMFutures()\n",
    "\n",
    "\n",
    "params = {\n",
    "    'symbol': 'BTCUSDT',#\n",
    "    'interval': '1d', #\n",
    "    'startTime': 1577836800000,# 20 01 01 12 00 am\n",
    "    # 'endTime': 1513092400000,\n",
    "    'limit': 1500\n",
    "    }\n",
    "\n",
    "response = um_futures_client.klines(**params)\n",
    "print(type(response[0]))"
   ]
  },
  {
   "cell_type": "code",
   "execution_count": 2,
   "metadata": {},
   "outputs": [
    {
     "name": "stdout",
     "output_type": "stream",
     "text": [
      "[1577836800000, '7189.43', '7190.52', '7172.94', '7176.26', '1037.337', 1577837699999, '7447960.02135', 1560, '383.751', '2755105.07629', '0']\n"
     ]
    },
    {
     "data": {
      "text/plain": [
       "1500"
      ]
     },
     "execution_count": 2,
     "metadata": {},
     "output_type": "execute_result"
    }
   ],
   "source": [
    "print(response[0])\n",
    "len(response)"
   ]
  },
  {
   "cell_type": "code",
   "execution_count": 3,
   "metadata": {},
   "outputs": [],
   "source": [
    "# Quote asset volume\n",
    "# Taker buy base asset volume\n",
    "# Taker buy quote asset volume\n",
    "df = pd.DataFrame(response, columns =['open_time','open','high', 'low', 'close', 'volume', 'close_time', 'qav', 'num_t', 'tbbav', 'tbqav', 'ignore'])"
   ]
  },
  {
   "cell_type": "code",
   "execution_count": 4,
   "metadata": {},
   "outputs": [
    {
     "data": {
      "text/html": [
       "<div>\n",
       "<style scoped>\n",
       "    .dataframe tbody tr th:only-of-type {\n",
       "        vertical-align: middle;\n",
       "    }\n",
       "\n",
       "    .dataframe tbody tr th {\n",
       "        vertical-align: top;\n",
       "    }\n",
       "\n",
       "    .dataframe thead th {\n",
       "        text-align: right;\n",
       "    }\n",
       "</style>\n",
       "<table border=\"1\" class=\"dataframe\">\n",
       "  <thead>\n",
       "    <tr style=\"text-align: right;\">\n",
       "      <th></th>\n",
       "      <th>open_time</th>\n",
       "      <th>open</th>\n",
       "      <th>high</th>\n",
       "      <th>low</th>\n",
       "      <th>close</th>\n",
       "      <th>volume</th>\n",
       "      <th>close_time</th>\n",
       "      <th>qav</th>\n",
       "      <th>num_t</th>\n",
       "      <th>tbbav</th>\n",
       "      <th>tbqav</th>\n",
       "      <th>ignore</th>\n",
       "    </tr>\n",
       "  </thead>\n",
       "  <tbody>\n",
       "    <tr>\n",
       "      <th>0</th>\n",
       "      <td>1577836800000</td>\n",
       "      <td>7189.43</td>\n",
       "      <td>7190.52</td>\n",
       "      <td>7172.94</td>\n",
       "      <td>7176.26</td>\n",
       "      <td>1037.337</td>\n",
       "      <td>1577837699999</td>\n",
       "      <td>7447960.02135</td>\n",
       "      <td>1560</td>\n",
       "      <td>383.751</td>\n",
       "      <td>2755105.07629</td>\n",
       "      <td>0</td>\n",
       "    </tr>\n",
       "    <tr>\n",
       "      <th>1</th>\n",
       "      <td>1577837700000</td>\n",
       "      <td>7176.22</td>\n",
       "      <td>7179.41</td>\n",
       "      <td>7170.69</td>\n",
       "      <td>7172.36</td>\n",
       "      <td>707.833</td>\n",
       "      <td>1577838599999</td>\n",
       "      <td>5078345.04373</td>\n",
       "      <td>1199</td>\n",
       "      <td>274.610</td>\n",
       "      <td>1970287.07110</td>\n",
       "      <td>0</td>\n",
       "    </tr>\n",
       "    <tr>\n",
       "      <th>2</th>\n",
       "      <td>1577838600000</td>\n",
       "      <td>7172.79</td>\n",
       "      <td>7179.45</td>\n",
       "      <td>7170.61</td>\n",
       "      <td>7174.83</td>\n",
       "      <td>325.246</td>\n",
       "      <td>1577839499999</td>\n",
       "      <td>2333751.74739</td>\n",
       "      <td>447</td>\n",
       "      <td>162.536</td>\n",
       "      <td>1166259.80196</td>\n",
       "      <td>0</td>\n",
       "    </tr>\n",
       "    <tr>\n",
       "      <th>3</th>\n",
       "      <td>1577839500000</td>\n",
       "      <td>7174.51</td>\n",
       "      <td>7179.36</td>\n",
       "      <td>7170.15</td>\n",
       "      <td>7171.55</td>\n",
       "      <td>378.633</td>\n",
       "      <td>1577840399999</td>\n",
       "      <td>2716367.62723</td>\n",
       "      <td>482</td>\n",
       "      <td>175.301</td>\n",
       "      <td>1257718.81418</td>\n",
       "      <td>0</td>\n",
       "    </tr>\n",
       "    <tr>\n",
       "      <th>4</th>\n",
       "      <td>1577840400000</td>\n",
       "      <td>7171.43</td>\n",
       "      <td>7188.77</td>\n",
       "      <td>7171.10</td>\n",
       "      <td>7186.60</td>\n",
       "      <td>555.389</td>\n",
       "      <td>1577841299999</td>\n",
       "      <td>3987948.79696</td>\n",
       "      <td>807</td>\n",
       "      <td>336.827</td>\n",
       "      <td>2418307.45086</td>\n",
       "      <td>0</td>\n",
       "    </tr>\n",
       "  </tbody>\n",
       "</table>\n",
       "</div>"
      ],
      "text/plain": [
       "       open_time     open     high      low    close    volume     close_time  \\\n",
       "0  1577836800000  7189.43  7190.52  7172.94  7176.26  1037.337  1577837699999   \n",
       "1  1577837700000  7176.22  7179.41  7170.69  7172.36   707.833  1577838599999   \n",
       "2  1577838600000  7172.79  7179.45  7170.61  7174.83   325.246  1577839499999   \n",
       "3  1577839500000  7174.51  7179.36  7170.15  7171.55   378.633  1577840399999   \n",
       "4  1577840400000  7171.43  7188.77  7171.10  7186.60   555.389  1577841299999   \n",
       "\n",
       "             qav  num_t    tbbav          tbqav ignore  \n",
       "0  7447960.02135   1560  383.751  2755105.07629      0  \n",
       "1  5078345.04373   1199  274.610  1970287.07110      0  \n",
       "2  2333751.74739    447  162.536  1166259.80196      0  \n",
       "3  2716367.62723    482  175.301  1257718.81418      0  \n",
       "4  3987948.79696    807  336.827  2418307.45086      0  "
      ]
     },
     "execution_count": 4,
     "metadata": {},
     "output_type": "execute_result"
    }
   ],
   "source": [
    "df.head()"
   ]
  },
  {
   "cell_type": "code",
   "execution_count": 5,
   "metadata": {},
   "outputs": [
    {
     "name": "stdout",
     "output_type": "stream",
     "text": [
      "open_time      int64\n",
      "open          object\n",
      "high          object\n",
      "low           object\n",
      "close         object\n",
      "volume        object\n",
      "close_time     int64\n",
      "qav           object\n",
      "num_t          int64\n",
      "tbbav         object\n",
      "tbqav         object\n",
      "ignore        object\n",
      "dtype: object\n"
     ]
    }
   ],
   "source": [
    "print (df.dtypes)"
   ]
  },
  {
   "cell_type": "code",
   "execution_count": 6,
   "metadata": {},
   "outputs": [
    {
     "data": {
      "text/plain": [
       "open_time       int64\n",
       "open          float64\n",
       "high          float64\n",
       "low           float64\n",
       "close         float64\n",
       "volume        float64\n",
       "close_time      int64\n",
       "qav           float64\n",
       "num_t           int64\n",
       "tbbav         float64\n",
       "tbqav         float64\n",
       "ignore        float64\n",
       "dtype: object"
      ]
     },
     "execution_count": 6,
     "metadata": {},
     "output_type": "execute_result"
    }
   ],
   "source": [
    "\n",
    "for col in ['open', 'high','low', 'close', 'volume','qav','tbbav','tbqav','ignore']:\n",
    "    df[col] = df[col].astype(float)\n",
    "df.dtypes\n",
    "\n"
   ]
  },
  {
   "cell_type": "code",
   "execution_count": 7,
   "metadata": {},
   "outputs": [],
   "source": [
    "# 현제 시간 timestamp ms 얻기\n",
    "import time  \n",
    "ts = time.time()\n",
    "ts = int(ts*1000)\n"
   ]
  },
  {
   "cell_type": "markdown",
   "metadata": {},
   "source": [
    "훈련용 데이터는 일단 1500 개 기본당위로 받고.\n",
    "그 뒤로는 반복문으로 받을 겁니다. \n",
    "\n",
    "-=--\n",
    "DROP TABLE IF EXISTS public.\"BTCUSDT_F_15m\";\n",
    "CREATE TABLE IF NOT EXISTS public.\"BTCUSDT_F_15m\"\n",
    "(\n",
    "    open_time bigint NOT NULL,\n",
    "    open numeric,\n",
    "    high numeric,\n",
    "    low numeric,\n",
    "    close numeric,\n",
    "    volume numeric,\n",
    "    close_time bigint,\n",
    "    qav numeric,\n",
    "    num_t bigint,\n",
    "    tbbav numeric,\n",
    "    tbqav numeric,\n",
    "    ignore numeric,\n",
    "    CONSTRAINT \"BTCUSDT_F_15m_pkey\" PRIMARY KEY (open_time)\n",
    ")\n",
    "\n",
    "TABLESPACE pg_default;\n",
    "\n",
    "ALTER TABLE IF EXISTS public.\"BTCUSDT_F_15m\"\n",
    "    OWNER to postgres;\n"
   ]
  },
  {
   "cell_type": "code",
   "execution_count": 8,
   "metadata": {},
   "outputs": [
    {
     "name": "stdout",
     "output_type": "stream",
     "text": [
      "done insert\n"
     ]
    }
   ],
   "source": [
    "import psycopg2\n",
    "import sys\n",
    "\n",
    "def insert_test(listData):\n",
    "    try:\n",
    "        conn = psycopg2.connect(host='localhost', dbname='binance',user='postgres',password='@lstodeks1',port=5432)\n",
    "        cur = conn.cursor()\n",
    "        # create table one by one\n",
    "        # cursor.executemany(sql_str, your_dataframe.values.tolist())\n",
    "        insert_sql = '''INSERT INTO BTCUSDT_F_15m (open_time, openp, highp, lowp, closep, volume, close_time, qav, num_t, tbbav, tbqav, ign)\n",
    "          VALUES(%s,%s,%s,%s,%s, %s,%s,%s,%s,%s, %s ,%s)'''\n",
    "        cur.executemany(insert_sql, listData)                # close communication with the PostgreSQL database server\n",
    "        cur.close()\n",
    "        # commit the changes\n",
    "        conn.commit()\n",
    "        print('done insert')\n",
    "\n",
    "    except  (Exception, psycopg2.DatabaseError)  as e:\n",
    "        print(f'Error {e}')\n",
    "        sys.exit(1)\n",
    "\n",
    "    finally:\n",
    "        if conn:\n",
    "            conn.close()\n",
    "\n",
    "insert_test(df.values.tolist())"
   ]
  },
  {
   "cell_type": "code",
   "execution_count": 10,
   "metadata": {},
   "outputs": [
    {
     "name": "stdout",
     "output_type": "stream",
     "text": [
      "done insert\n",
      "(1500,)\n"
     ]
    }
   ],
   "source": [
    "\n",
    "\n",
    "def count_test():\n",
    "    try:\n",
    "        conn = psycopg2.connect(host='localhost', dbname='binance',user='postgres',password='@lstodeks1',port=5432)\n",
    "        cur = conn.cursor()\n",
    "        # create table one by one\n",
    "        # cursor.executemany(sql_str, your_dataframe.values.tolist())\n",
    "        insert_sql = '''SELECT count(*) FROM BTCUSDT_F_15m'''\n",
    "        cur.execute(insert_sql)\n",
    "        results = cur.fetchone()             # close communication with the PostgreSQL database server\n",
    "        cur.close()\n",
    "        # commit the changes\n",
    "        conn.commit()\n",
    "        print('done insert')\n",
    "\n",
    "    except  (Exception, psycopg2.DatabaseError)  as e:\n",
    "        print(f'Error {e}')\n",
    "        sys.exit(1)\n",
    "\n",
    "    finally:\n",
    "        if conn:\n",
    "            conn.close()\n",
    "    return results\n",
    "\n",
    "print(count_test())"
   ]
  }
 ],
 "metadata": {
  "kernelspec": {
   "display_name": "Python 3.8.13 ('bitcoin')",
   "language": "python",
   "name": "python3"
  },
  "language_info": {
   "codemirror_mode": {
    "name": "ipython",
    "version": 3
   },
   "file_extension": ".py",
   "mimetype": "text/x-python",
   "name": "python",
   "nbconvert_exporter": "python",
   "pygments_lexer": "ipython3",
   "version": "3.8.13"
  },
  "orig_nbformat": 4,
  "vscode": {
   "interpreter": {
    "hash": "43c101c0d5935be89647586713458442a480aea78bf1413d9e93a5ef5e3b1650"
   }
  }
 },
 "nbformat": 4,
 "nbformat_minor": 2
}
